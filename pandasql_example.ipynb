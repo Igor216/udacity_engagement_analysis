{
 "cells": [
  {
   "cell_type": "markdown",
   "metadata": {},
   "source": [
    "# Example of using pandasql library for data analysis"
   ]
  },
  {
   "cell_type": "code",
   "execution_count": 1,
   "metadata": {
    "collapsed": false
   },
   "outputs": [],
   "source": [
    "%matplotlib inline\n",
    "import pandas as pd\n",
    "import pandasql as ps\n",
    "from datetime import datetime\n",
    "import seaborn"
   ]
  },
  {
   "cell_type": "code",
   "execution_count": 2,
   "metadata": {
    "collapsed": true
   },
   "outputs": [],
   "source": [
    "project_submissions = pd.read_csv('./data/project_submissions.csv')\n",
    "daily_engagements = pd.read_csv('./data/daily_engagement.csv')\n",
    "enrollments = pd.read_csv('./data/enrollments.csv')"
   ]
  },
  {
   "cell_type": "markdown",
   "metadata": {},
   "source": [
    "## Simple SQL query \n",
    "getting accounts and date with maximum total time spent on Udacity"
   ]
  },
  {
   "cell_type": "code",
   "execution_count": 3,
   "metadata": {
    "collapsed": false
   },
   "outputs": [
    {
     "data": {
      "text/html": [
       "<div>\n",
       "<table border=\"1\" class=\"dataframe\">\n",
       "  <thead>\n",
       "    <tr style=\"text-align: right;\">\n",
       "      <th></th>\n",
       "      <th>acct</th>\n",
       "      <th>total_minutes_visited</th>\n",
       "      <th>utc_date</th>\n",
       "    </tr>\n",
       "  </thead>\n",
       "  <tbody>\n",
       "    <tr>\n",
       "      <th>0</th>\n",
       "      <td>317</td>\n",
       "      <td>1030.883197</td>\n",
       "      <td>2015-07-11</td>\n",
       "    </tr>\n",
       "    <tr>\n",
       "      <th>1</th>\n",
       "      <td>328</td>\n",
       "      <td>945.538914</td>\n",
       "      <td>2015-07-09</td>\n",
       "    </tr>\n",
       "    <tr>\n",
       "      <th>2</th>\n",
       "      <td>198</td>\n",
       "      <td>876.512846</td>\n",
       "      <td>2014-12-30</td>\n",
       "    </tr>\n",
       "    <tr>\n",
       "      <th>3</th>\n",
       "      <td>163</td>\n",
       "      <td>872.633923</td>\n",
       "      <td>2015-07-10</td>\n",
       "    </tr>\n",
       "    <tr>\n",
       "      <th>4</th>\n",
       "      <td>573</td>\n",
       "      <td>866.405226</td>\n",
       "      <td>2015-07-11</td>\n",
       "    </tr>\n",
       "    <tr>\n",
       "      <th>5</th>\n",
       "      <td>303</td>\n",
       "      <td>856.634726</td>\n",
       "      <td>2015-05-14</td>\n",
       "    </tr>\n",
       "    <tr>\n",
       "      <th>6</th>\n",
       "      <td>619</td>\n",
       "      <td>853.253236</td>\n",
       "      <td>2015-07-10</td>\n",
       "    </tr>\n",
       "    <tr>\n",
       "      <th>7</th>\n",
       "      <td>163</td>\n",
       "      <td>850.519340</td>\n",
       "      <td>2015-07-09</td>\n",
       "    </tr>\n",
       "    <tr>\n",
       "      <th>8</th>\n",
       "      <td>108</td>\n",
       "      <td>820.879483</td>\n",
       "      <td>2015-02-20</td>\n",
       "    </tr>\n",
       "    <tr>\n",
       "      <th>9</th>\n",
       "      <td>278</td>\n",
       "      <td>816.895443</td>\n",
       "      <td>2015-07-09</td>\n",
       "    </tr>\n",
       "  </tbody>\n",
       "</table>\n",
       "</div>"
      ],
      "text/plain": [
       "   acct  total_minutes_visited    utc_date\n",
       "0   317            1030.883197  2015-07-11\n",
       "1   328             945.538914  2015-07-09\n",
       "2   198             876.512846  2014-12-30\n",
       "3   163             872.633923  2015-07-10\n",
       "4   573             866.405226  2015-07-11\n",
       "5   303             856.634726  2015-05-14\n",
       "6   619             853.253236  2015-07-10\n",
       "7   163             850.519340  2015-07-09\n",
       "8   108             820.879483  2015-02-20\n",
       "9   278             816.895443  2015-07-09"
      ]
     },
     "execution_count": 3,
     "metadata": {},
     "output_type": "execute_result"
    }
   ],
   "source": [
    "# pandasql code\n",
    "simple_query = '''\n",
    "    SELECT \n",
    "        acct, \n",
    "        total_minutes_visited,\n",
    "        utc_date\n",
    "    FROM daily_engagements \n",
    "    ORDER BY total_minutes_visited desc\n",
    "    LIMIT 10\n",
    "    '''\n",
    "ps.sqldf(simple_query, locals())"
   ]
  },
  {
   "cell_type": "code",
   "execution_count": 4,
   "metadata": {
    "collapsed": false
   },
   "outputs": [
    {
     "data": {
      "text/html": [
       "<div>\n",
       "<table border=\"1\" class=\"dataframe\">\n",
       "  <thead>\n",
       "    <tr style=\"text-align: right;\">\n",
       "      <th></th>\n",
       "      <th>acct</th>\n",
       "      <th>total_minutes_visited</th>\n",
       "      <th>utc_date</th>\n",
       "    </tr>\n",
       "  </thead>\n",
       "  <tbody>\n",
       "    <tr>\n",
       "      <th>54536</th>\n",
       "      <td>317</td>\n",
       "      <td>1030.883197</td>\n",
       "      <td>2015-07-11</td>\n",
       "    </tr>\n",
       "    <tr>\n",
       "      <th>56403</th>\n",
       "      <td>328</td>\n",
       "      <td>945.538914</td>\n",
       "      <td>2015-07-09</td>\n",
       "    </tr>\n",
       "    <tr>\n",
       "      <th>33728</th>\n",
       "      <td>198</td>\n",
       "      <td>876.512846</td>\n",
       "      <td>2014-12-30</td>\n",
       "    </tr>\n",
       "    <tr>\n",
       "      <th>27699</th>\n",
       "      <td>163</td>\n",
       "      <td>872.633923</td>\n",
       "      <td>2015-07-10</td>\n",
       "    </tr>\n",
       "    <tr>\n",
       "      <th>97492</th>\n",
       "      <td>573</td>\n",
       "      <td>866.405226</td>\n",
       "      <td>2015-07-11</td>\n",
       "    </tr>\n",
       "    <tr>\n",
       "      <th>51779</th>\n",
       "      <td>303</td>\n",
       "      <td>856.634726</td>\n",
       "      <td>2015-05-14</td>\n",
       "    </tr>\n",
       "    <tr>\n",
       "      <th>105968</th>\n",
       "      <td>619</td>\n",
       "      <td>853.253236</td>\n",
       "      <td>2015-07-10</td>\n",
       "    </tr>\n",
       "    <tr>\n",
       "      <th>27698</th>\n",
       "      <td>163</td>\n",
       "      <td>850.519340</td>\n",
       "      <td>2015-07-09</td>\n",
       "    </tr>\n",
       "    <tr>\n",
       "      <th>18394</th>\n",
       "      <td>108</td>\n",
       "      <td>820.879483</td>\n",
       "      <td>2015-02-20</td>\n",
       "    </tr>\n",
       "    <tr>\n",
       "      <th>47372</th>\n",
       "      <td>278</td>\n",
       "      <td>816.895443</td>\n",
       "      <td>2015-07-09</td>\n",
       "    </tr>\n",
       "  </tbody>\n",
       "</table>\n",
       "</div>"
      ],
      "text/plain": [
       "        acct  total_minutes_visited    utc_date\n",
       "54536    317            1030.883197  2015-07-11\n",
       "56403    328             945.538914  2015-07-09\n",
       "33728    198             876.512846  2014-12-30\n",
       "27699    163             872.633923  2015-07-10\n",
       "97492    573             866.405226  2015-07-11\n",
       "51779    303             856.634726  2015-05-14\n",
       "105968   619             853.253236  2015-07-10\n",
       "27698    163             850.519340  2015-07-09\n",
       "18394    108             820.879483  2015-02-20\n",
       "47372    278             816.895443  2015-07-09"
      ]
     },
     "execution_count": 4,
     "metadata": {},
     "output_type": "execute_result"
    }
   ],
   "source": [
    "# pandas code\n",
    "daily_engagements[['acct', 'total_minutes_visited', 'utc_date']].sort('total_minutes_visited', ascending = False)[:10]"
   ]
  },
  {
   "cell_type": "markdown",
   "metadata": {},
   "source": [
    "## SQL query with aggregating functions\n",
    "Let's see whether there's weekly seasonality: on average students spent more time on weekends then on weekdays"
   ]
  },
  {
   "cell_type": "code",
   "execution_count": 5,
   "metadata": {
    "collapsed": false
   },
   "outputs": [],
   "source": [
    "daily_engagements['weekday'] = map(lambda x: datetime.strptime(x, '%Y-%m-%d').strftime('%A'), daily_engagements.utc_date)"
   ]
  },
  {
   "cell_type": "code",
   "execution_count": 6,
   "metadata": {
    "collapsed": false
   },
   "outputs": [
    {
     "data": {
      "text/html": [
       "<div>\n",
       "<table border=\"1\" class=\"dataframe\">\n",
       "  <thead>\n",
       "    <tr style=\"text-align: right;\">\n",
       "      <th></th>\n",
       "      <th>acct</th>\n",
       "      <th>utc_date</th>\n",
       "      <th>num_courses_visited</th>\n",
       "      <th>total_minutes_visited</th>\n",
       "      <th>lessons_completed</th>\n",
       "      <th>projects_completed</th>\n",
       "      <th>weekday</th>\n",
       "    </tr>\n",
       "  </thead>\n",
       "  <tbody>\n",
       "    <tr>\n",
       "      <th>0</th>\n",
       "      <td>0</td>\n",
       "      <td>2015-01-09</td>\n",
       "      <td>1</td>\n",
       "      <td>11.679374</td>\n",
       "      <td>0</td>\n",
       "      <td>0</td>\n",
       "      <td>Friday</td>\n",
       "    </tr>\n",
       "    <tr>\n",
       "      <th>1</th>\n",
       "      <td>0</td>\n",
       "      <td>2015-01-10</td>\n",
       "      <td>2</td>\n",
       "      <td>37.284887</td>\n",
       "      <td>0</td>\n",
       "      <td>0</td>\n",
       "      <td>Saturday</td>\n",
       "    </tr>\n",
       "    <tr>\n",
       "      <th>2</th>\n",
       "      <td>0</td>\n",
       "      <td>2015-01-11</td>\n",
       "      <td>2</td>\n",
       "      <td>53.633746</td>\n",
       "      <td>0</td>\n",
       "      <td>0</td>\n",
       "      <td>Sunday</td>\n",
       "    </tr>\n",
       "    <tr>\n",
       "      <th>3</th>\n",
       "      <td>0</td>\n",
       "      <td>2015-01-12</td>\n",
       "      <td>1</td>\n",
       "      <td>33.489270</td>\n",
       "      <td>0</td>\n",
       "      <td>0</td>\n",
       "      <td>Monday</td>\n",
       "    </tr>\n",
       "    <tr>\n",
       "      <th>4</th>\n",
       "      <td>0</td>\n",
       "      <td>2015-01-13</td>\n",
       "      <td>1</td>\n",
       "      <td>64.779678</td>\n",
       "      <td>0</td>\n",
       "      <td>0</td>\n",
       "      <td>Tuesday</td>\n",
       "    </tr>\n",
       "  </tbody>\n",
       "</table>\n",
       "</div>"
      ],
      "text/plain": [
       "   acct    utc_date  num_courses_visited  total_minutes_visited  \\\n",
       "0     0  2015-01-09                    1              11.679374   \n",
       "1     0  2015-01-10                    2              37.284887   \n",
       "2     0  2015-01-11                    2              53.633746   \n",
       "3     0  2015-01-12                    1              33.489270   \n",
       "4     0  2015-01-13                    1              64.779678   \n",
       "\n",
       "   lessons_completed  projects_completed   weekday  \n",
       "0                  0                   0    Friday  \n",
       "1                  0                   0  Saturday  \n",
       "2                  0                   0    Sunday  \n",
       "3                  0                   0    Monday  \n",
       "4                  0                   0   Tuesday  "
      ]
     },
     "execution_count": 6,
     "metadata": {},
     "output_type": "execute_result"
    }
   ],
   "source": [
    "daily_engagements.head()"
   ]
  },
  {
   "cell_type": "code",
   "execution_count": 20,
   "metadata": {
    "collapsed": false
   },
   "outputs": [
    {
     "data": {
      "text/html": [
       "<div>\n",
       "<table border=\"1\" class=\"dataframe\">\n",
       "  <thead>\n",
       "    <tr style=\"text-align: right;\">\n",
       "      <th></th>\n",
       "      <th>total_minutes_visited</th>\n",
       "    </tr>\n",
       "    <tr>\n",
       "      <th>weekday</th>\n",
       "      <th></th>\n",
       "    </tr>\n",
       "  </thead>\n",
       "  <tbody>\n",
       "    <tr>\n",
       "      <th>Friday</th>\n",
       "      <td>23.156233</td>\n",
       "    </tr>\n",
       "    <tr>\n",
       "      <th>Monday</th>\n",
       "      <td>26.418982</td>\n",
       "    </tr>\n",
       "    <tr>\n",
       "      <th>Saturday</th>\n",
       "      <td>21.725677</td>\n",
       "    </tr>\n",
       "    <tr>\n",
       "      <th>Sunday</th>\n",
       "      <td>23.539406</td>\n",
       "    </tr>\n",
       "    <tr>\n",
       "      <th>Thursday</th>\n",
       "      <td>24.685176</td>\n",
       "    </tr>\n",
       "    <tr>\n",
       "      <th>Tuesday</th>\n",
       "      <td>26.857676</td>\n",
       "    </tr>\n",
       "    <tr>\n",
       "      <th>Wednesday</th>\n",
       "      <td>25.362789</td>\n",
       "    </tr>\n",
       "  </tbody>\n",
       "</table>\n",
       "</div>"
      ],
      "text/plain": [
       "           total_minutes_visited\n",
       "weekday                         \n",
       "Friday                 23.156233\n",
       "Monday                 26.418982\n",
       "Saturday               21.725677\n",
       "Sunday                 23.539406\n",
       "Thursday               24.685176\n",
       "Tuesday                26.857676\n",
       "Wednesday              25.362789"
      ]
     },
     "execution_count": 20,
     "metadata": {},
     "output_type": "execute_result"
    }
   ],
   "source": [
    "# pandasql code\n",
    "aggr_query = '''\n",
    "    SELECT \n",
    "        avg(total_minutes_visited) as total_minutes_visited,\n",
    "        weekday\n",
    "    FROM daily_engagements \n",
    "    GROUP BY weekday\n",
    "    '''\n",
    "weekday_engagement = ps.sqldf(aggr_query, locals()).set_index('weekday')\n",
    "weekday_engagement"
   ]
  },
  {
   "cell_type": "code",
   "execution_count": 19,
   "metadata": {
    "collapsed": false
   },
   "outputs": [
    {
     "data": {
      "text/html": [
       "<div>\n",
       "<table border=\"1\" class=\"dataframe\">\n",
       "  <thead>\n",
       "    <tr style=\"text-align: right;\">\n",
       "      <th></th>\n",
       "      <th>total_minutes_visited</th>\n",
       "    </tr>\n",
       "    <tr>\n",
       "      <th>weekday</th>\n",
       "      <th></th>\n",
       "    </tr>\n",
       "  </thead>\n",
       "  <tbody>\n",
       "    <tr>\n",
       "      <th>Friday</th>\n",
       "      <td>23.156233</td>\n",
       "    </tr>\n",
       "    <tr>\n",
       "      <th>Monday</th>\n",
       "      <td>26.418982</td>\n",
       "    </tr>\n",
       "    <tr>\n",
       "      <th>Saturday</th>\n",
       "      <td>21.725677</td>\n",
       "    </tr>\n",
       "    <tr>\n",
       "      <th>Sunday</th>\n",
       "      <td>23.539406</td>\n",
       "    </tr>\n",
       "    <tr>\n",
       "      <th>Thursday</th>\n",
       "      <td>24.685176</td>\n",
       "    </tr>\n",
       "    <tr>\n",
       "      <th>Tuesday</th>\n",
       "      <td>26.857676</td>\n",
       "    </tr>\n",
       "    <tr>\n",
       "      <th>Wednesday</th>\n",
       "      <td>25.362789</td>\n",
       "    </tr>\n",
       "  </tbody>\n",
       "</table>\n",
       "</div>"
      ],
      "text/plain": [
       "           total_minutes_visited\n",
       "weekday                         \n",
       "Friday                 23.156233\n",
       "Monday                 26.418982\n",
       "Saturday               21.725677\n",
       "Sunday                 23.539406\n",
       "Thursday               24.685176\n",
       "Tuesday                26.857676\n",
       "Wednesday              25.362789"
      ]
     },
     "execution_count": 19,
     "metadata": {},
     "output_type": "execute_result"
    }
   ],
   "source": [
    "# pandas code\n",
    "\n",
    "pd.DataFrame(daily_engagements.groupby('weekday').total_minutes_visited.mean())"
   ]
  },
  {
   "cell_type": "code",
   "execution_count": 21,
   "metadata": {
    "collapsed": false
   },
   "outputs": [
    {
     "data": {
      "text/plain": [
       "<matplotlib.axes.AxesSubplot at 0x108100710>"
      ]
     },
     "execution_count": 21,
     "metadata": {},
     "output_type": "execute_result"
    },
    {
     "data": {
      "image/png": "[encoded data removed]",
      "text/plain": [
       "<matplotlib.figure.Figure at 0x109bef150>"
      ]
     },
     "metadata": {},
     "output_type": "display_data"
    }
   ],
   "source": [
    "week_order = ['Monday', 'Tuesday', 'Wednesday', 'Thursday', 'Friday', 'Saturday', 'Sunday']\n",
    "weekday_engagement.loc[week_order].plot(kind = 'bar', rot = 45, title = 'Total time spent on Udacity by weekday')"
   ]
  },
  {
   "cell_type": "markdown",
   "metadata": {},
   "source": [
    "# Joining tables\n",
    "Let's see whether students that canceled program was spending less time on Udacity within first week of enrollment.\n",
    "Note we need to filter out Udacity test users not to spoil statistics. Also we need to take into account the fact that student may join several times."
   ]
  },
  {
   "cell_type": "code",
   "execution_count": 47,
   "metadata": {
    "collapsed": false
   },
   "outputs": [
    {
     "data": {
      "text/html": [
       "<div>\n",
       "<table border=\"1\" class=\"dataframe\">\n",
       "  <thead>\n",
       "    <tr style=\"text-align: right;\">\n",
       "      <th></th>\n",
       "      <th>avg_total_minutes</th>\n",
       "      <th>status</th>\n",
       "    </tr>\n",
       "  </thead>\n",
       "  <tbody>\n",
       "    <tr>\n",
       "      <th>0</th>\n",
       "      <td>30.841669</td>\n",
       "      <td>canceled</td>\n",
       "    </tr>\n",
       "    <tr>\n",
       "      <th>1</th>\n",
       "      <td>47.307307</td>\n",
       "      <td>current</td>\n",
       "    </tr>\n",
       "  </tbody>\n",
       "</table>\n",
       "</div>"
      ],
      "text/plain": [
       "   avg_total_minutes    status\n",
       "0          30.841669  canceled\n",
       "1          47.307307   current"
      ]
     },
     "execution_count": 47,
     "metadata": {},
     "output_type": "execute_result"
    }
   ],
   "source": [
    "# pandasql code\n",
    "join_query = '''\n",
    "    SELECT \n",
    "        avg(avg_acct_total_minutes) as avg_total_minutes, \n",
    "        status\n",
    "    FROM\n",
    "        (SELECT \n",
    "            avg(total_minutes_visited) as avg_acct_total_minutes, \n",
    "            status, \n",
    "            account_key\n",
    "        FROM\n",
    "            (SELECT \n",
    "                e.account_key, \n",
    "                e.status,\n",
    "                de.total_minutes_visited,\n",
    "                (cast(strftime('%s',de.utc_date) as interger) - cast(strftime('%s',e.join_date) as interger))/(24*60*60) as days_since_joining\n",
    "            FROM enrollments as e JOIN daily_engagements as de ON (e.account_key = de.acct)\n",
    "            WHERE (is_udacity = 0) AND (days_since_joining < 7) AND (days_since_joining >= 0)\n",
    "            )\n",
    "        GROUP BY status, account_key)\n",
    "    GROUP BY status\n",
    "''' \n",
    "ps.sqldf(join_query, locals())"
   ]
  },
  {
   "cell_type": "code",
   "execution_count": 78,
   "metadata": {
    "collapsed": false
   },
   "outputs": [
    {
     "data": {
      "text/html": [
       "<div>\n",
       "<table border=\"1\" class=\"dataframe\">\n",
       "  <thead>\n",
       "    <tr style=\"text-align: right;\">\n",
       "      <th></th>\n",
       "      <th>total_minutes_visited</th>\n",
       "    </tr>\n",
       "    <tr>\n",
       "      <th>status</th>\n",
       "      <th></th>\n",
       "    </tr>\n",
       "  </thead>\n",
       "  <tbody>\n",
       "    <tr>\n",
       "      <th>canceled</th>\n",
       "      <td>30.841669</td>\n",
       "    </tr>\n",
       "    <tr>\n",
       "      <th>current</th>\n",
       "      <td>47.307307</td>\n",
       "    </tr>\n",
       "  </tbody>\n",
       "</table>\n",
       "</div>"
      ],
      "text/plain": [
       "          total_minutes_visited\n",
       "status                         \n",
       "canceled              30.841669\n",
       "current               47.307307"
      ]
     },
     "execution_count": 78,
     "metadata": {},
     "output_type": "execute_result"
    }
   ],
   "source": [
    "# pandas code\n",
    "join_df = pd.merge(daily_engagements, \n",
    "                   enrollments[enrollments.is_udacity == 0], \n",
    "                   how = 'inner', \n",
    "                   right_on ='account_key', \n",
    "                   left_on = 'acct')\n",
    "join_df = join_df[['account_key', 'status', 'total_minutes_visited', 'utc_date', 'join_date']]\n",
    "\n",
    "join_df['days_since_joining'] = map(lambda x: x.days, \n",
    "                                    pd.to_datetime(join_df.utc_date) - pd.to_datetime(join_df.join_date))\n",
    "\n",
    "join_df = join_df[(join_df.days_since_joining < 7) & (join_df.days_since_joining >= 0)]\n",
    "\n",
    "avg_account_total_minutes_visited = pd.DataFrame(join_df.groupby(['account_key', 'status']).total_minutes_visited.mean())\n",
    "avg_account_total_minutes_visited = avg_account_total_minutes_visited.reset_index()\n",
    "pd.DataFrame(avg_account_total_minutes_visited.groupby('status').total_minutes_visited.mean())"
   ]
  },
  {
   "cell_type": "code",
   "execution_count": null,
   "metadata": {
    "collapsed": true
   },
   "outputs": [],
   "source": []
  }
 ],
 "metadata": {
  "kernelspec": {
   "display_name": "Python 2",
   "language": "python",
   "name": "python2"
  },
  "language_info": {
   "codemirror_mode": {
    "name": "ipython",
    "version": 2
   },
   "file_extension": ".py",
   "mimetype": "text/x-python",
   "name": "python",
   "nbconvert_exporter": "python",
   "pygments_lexer": "ipython2",
   "version": "2.7.5"
  }
 },
 "nbformat": 4,
 "nbformat_minor": 0
}
